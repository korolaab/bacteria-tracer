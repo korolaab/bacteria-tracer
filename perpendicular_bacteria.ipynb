{
 "cells": [
  {
   "cell_type": "code",
   "execution_count": 1,
   "metadata": {},
   "outputs": [],
   "source": [
    "import os # working with os\n",
    "import warnings\n",
    "warnings.filterwarnings(\"ignore\")\n",
    "#os.environ['TF_CPP_MIN_LOG_LEVEL'] = '3' # no debug TF info\n",
    "import tensorflow as tf # high level framework for NN\n",
    "from tensorflow.keras.models import load_model # lib for easier NN coding with Tensorflow\n",
    "import numpy as np #matrixes and tensors \n",
    "import cv2 # computer vision algorithms\n",
    "import json # JSON lib\n",
    "import math # math module \n",
    "from progress_bar import printProgressBar # beautiful progress bar :3\n",
    "import csv \n",
    "import model as m # object with our model \n",
    "import argparse # parsing input argument\n",
    "from random import randrange\n",
    "import matplotlib.pyplot as plt\n",
    "\n",
    "def finderCV(mask,criteria=0.5,img=None):\n",
    "            mask = np.where(mask > criteria, 1, 0)\n",
    "            arr = []\n",
    "            im1 = np.ascontiguousarray(mask, dtype=np.uint8)\n",
    "            contours, hierarchy = cv2.findContours(im1, cv2.RETR_TREE , cv2.CHAIN_APPROX_NONE)\n",
    "            for cnt in contours:\n",
    "                    arr.append(cv2.minAreaRect(cnt))\n",
    " \n",
    "            return arr ## OpenCV algorithm which finds contours of bacteria\n"
   ]
  },
  {
   "cell_type": "code",
   "execution_count": 2,
   "metadata": {},
   "outputs": [],
   "source": [
    "def photos(folder):\n",
    "#     folder = \"photo_elena/\"\n",
    "    files=os.listdir(folder)\n",
    "    print(\"%20s|%20s|%20s|\"%(\"file\",\"perpendicularly\",\"parallel\"))\n",
    "    for photo in files:\n",
    "#         if 'dno' not in photo:\n",
    "#             continue\n",
    "        pic = 255 - cv2.imread(folder+photo,cv2.IMREAD_GRAYSCALE)\n",
    "        mask = m.recognize(pic)\n",
    "        rec = finderCV(mask)\n",
    "        L = np.array([max(x[1]) for x in rec])\n",
    "        W = np.array([min(x[1]) for x in rec])\n",
    "        #par = np.array([L,W],dtype=np.float32)н\n",
    "        e = np.sqrt(1-np.where(L==0, 0, W/L))\n",
    "        per = np.count_nonzero(e < 0.1)\n",
    "        par = np.count_nonzero(e >=0.1)\n",
    "        print(\"%20s|%20d|%20d|\"%(photo,per,par))"
   ]
  },
  {
   "cell_type": "code",
   "execution_count": 3,
   "metadata": {},
   "outputs": [],
   "source": [
    "def video(folder):\n",
    "    files=os.listdir(folder)\n",
    "    print(len(files))\n",
    "    bins = 25\n",
    "    frames = np.zeros([1,bins])\n",
    "    e = []\n",
    "    for i in range(0,len(files),20):\n",
    "        print(i,end='')\n",
    "#         print(folder)\n",
    "#         print(files[i])\n",
    "        pic = cv2.imread(folder+\"/\"+files[i],cv2.IMREAD_GRAYSCALE)\n",
    "#         print(pic.shape)\n",
    "        mask = m.recognize(pic)\n",
    "        rec = finderCV(mask)\n",
    "        L = np.array([max(x[1]) for x in rec])\n",
    "        W = np.array([min(x[1]) for x in rec])\n",
    "        #par = np.array([L,W],dtype=np.float32)н\n",
    "        e = np.sqrt(1-np.where(L==0, 0, W/L))\n",
    "        #per = np.count_nonzero(e < 0.1)\n",
    "        #par = np.count_nonzero(e >=0.1)\n",
    "        e = np.histogram(e,bins=25)  \n",
    "        frames = np.append(frames,np.expand_dims(e[0],axis=0),axis=0)\n",
    "    return frames,e[1]"
   ]
  },
  {
   "cell_type": "code",
   "execution_count": 22,
   "metadata": {},
   "outputs": [
    {
     "name": "stdout",
     "output_type": "stream",
     "text": [
      "290\n",
      "020406080100120140160180200220240260280290\n",
      "020406080100120140160180200220240260280290\n",
      "020406080100120140160180200220240260280290\n",
      "020406080100120140160180200220240260280"
     ]
    }
   ],
   "source": [
    "folders=os.listdir('/home/korolaab/Downloads/archive')\n",
    "Y_arr=[]\n",
    "X_arr = []\n",
    "for i in range(len(folders)):\n",
    "     Y,X = video(\"/home/korolaab/Downloads/archive/\"+folders[i])\n",
    "     #Y_arr.append(np.median(Y,axis=0))\n",
    "     Y_arr.append(Y)    \n",
    "     X_arr.append(X)"
   ]
  },
  {
   "cell_type": "code",
   "execution_count": 59,
   "metadata": {},
   "outputs": [
    {
     "data": {
      "text/plain": [
       "array([  0., 222., 226., 232., 251., 255., 226., 218., 239., 229., 251.,\n",
       "       266., 254., 224., 261., 244.])"
      ]
     },
     "execution_count": 59,
     "metadata": {},
     "output_type": "execute_result"
    }
   ],
   "source": [
    "Y_arr[0].sum(axis=1)"
   ]
  },
  {
   "cell_type": "raw",
   "metadata": {},
   "source": [
    "\n",
    "fig,ax=plt.subplots(1,figsize=(15,10))\n",
    "folders = os.listdir(\"/home/korolaab/Downloads/archive\")\n",
    "ax.grid(True)\n",
    "ax.set_xlabel(\"Frame\")\n",
    "ax.set_ylabel(\"N\")\n",
    "f=2\n",
    "ax.set_title(folders[f])\n",
    "# ax.set_title(\"Total detected bacteria per frame\")\n",
    "L = Y_arr[f].sum(axis=1)\n",
    "ax.plot(np.arange(0,301,20),Y_arr[f][:,0]/L,label=\"0 ecs\")\n",
    "ax.scatter(np.arange(0,301,20),Y_arr[f][:,0]/L)\n",
    "\n",
    "ax.plot(np.arange(0,301,20),Y_arr[f][:,5]/L,label=\"0.2 ecs\")\n",
    "ax.scatter(np.arange(0,301,20),Y_arr[f][:,5]/L)\n",
    "i = 17\n",
    "ax.plot(np.arange(0,301,20),Y_arr[f][:,i]/L,label=\"{} ecs\".format(X_arr[0][i]))\n",
    "ax.scatter(np.arange(0,301,20),Y_arr[f][:,i]/L)\n",
    "\n",
    "# for f in range(4):\n",
    "#     ax.plot(np.arange(0,301,20),Y_arr[f].sum(axis=1),label=folders[f])\n",
    "#     ax.scatter(np.arange(0,301,20),Y_arr[f].sum(axis=1))   \n",
    "\n",
    "ax.legend()"
   ]
  },
  {
   "cell_type": "code",
   "execution_count": 53,
   "metadata": {},
   "outputs": [
    {
     "ename": "ValueError",
     "evalue": "x and y must be the same size",
     "output_type": "error",
     "traceback": [
      "\u001b[0;31m---------------------------------------------------------------------------\u001b[0m",
      "\u001b[0;31mValueError\u001b[0m                                Traceback (most recent call last)",
      "\u001b[0;32m<ipython-input-53-8a96f05efd1a>\u001b[0m in \u001b[0;36m<module>\u001b[0;34m\u001b[0m\n\u001b[1;32m      8\u001b[0m     \u001b[0;32mif\u001b[0m\u001b[0;34m(\u001b[0m\u001b[0mi\u001b[0m \u001b[0;34m==\u001b[0m \u001b[0;36m1\u001b[0m\u001b[0;34m)\u001b[0m\u001b[0;34m:\u001b[0m\u001b[0;34m\u001b[0m\u001b[0;34m\u001b[0m\u001b[0m\n\u001b[1;32m      9\u001b[0m         \u001b[0;32mcontinue\u001b[0m\u001b[0;34m\u001b[0m\u001b[0;34m\u001b[0m\u001b[0m\n\u001b[0;32m---> 10\u001b[0;31m     \u001b[0max\u001b[0m\u001b[0;34m.\u001b[0m\u001b[0mscatter\u001b[0m\u001b[0;34m(\u001b[0m\u001b[0mX_arr\u001b[0m\u001b[0;34m[\u001b[0m\u001b[0mi\u001b[0m\u001b[0;34m]\u001b[0m\u001b[0;34m[\u001b[0m\u001b[0;34m:\u001b[0m\u001b[0;34m-\u001b[0m\u001b[0;36m1\u001b[0m\u001b[0;34m]\u001b[0m\u001b[0;34m,\u001b[0m\u001b[0mY_arr\u001b[0m\u001b[0;34m[\u001b[0m\u001b[0mi\u001b[0m\u001b[0;34m]\u001b[0m\u001b[0;34m/\u001b[0m\u001b[0mY_arr\u001b[0m\u001b[0;34m[\u001b[0m\u001b[0mi\u001b[0m\u001b[0;34m]\u001b[0m\u001b[0;34m.\u001b[0m\u001b[0msum\u001b[0m\u001b[0;34m(\u001b[0m\u001b[0;34m)\u001b[0m\u001b[0;34m,\u001b[0m\u001b[0mlabel\u001b[0m\u001b[0;34m=\u001b[0m\u001b[0mfolders\u001b[0m\u001b[0;34m[\u001b[0m\u001b[0mi\u001b[0m\u001b[0;34m]\u001b[0m\u001b[0;34m)\u001b[0m\u001b[0;34m\u001b[0m\u001b[0;34m\u001b[0m\u001b[0m\n\u001b[0m\u001b[1;32m     11\u001b[0m     \u001b[0max\u001b[0m\u001b[0;34m.\u001b[0m\u001b[0mplot\u001b[0m\u001b[0;34m(\u001b[0m\u001b[0mX_arr\u001b[0m\u001b[0;34m[\u001b[0m\u001b[0mi\u001b[0m\u001b[0;34m]\u001b[0m\u001b[0;34m[\u001b[0m\u001b[0;34m:\u001b[0m\u001b[0;34m-\u001b[0m\u001b[0;36m1\u001b[0m\u001b[0;34m]\u001b[0m\u001b[0;34m,\u001b[0m\u001b[0mY_arr\u001b[0m\u001b[0;34m[\u001b[0m\u001b[0mi\u001b[0m\u001b[0;34m]\u001b[0m\u001b[0;34m/\u001b[0m\u001b[0mY_arr\u001b[0m\u001b[0;34m[\u001b[0m\u001b[0mi\u001b[0m\u001b[0;34m]\u001b[0m\u001b[0;34m.\u001b[0m\u001b[0msum\u001b[0m\u001b[0;34m(\u001b[0m\u001b[0;34m)\u001b[0m\u001b[0;34m)\u001b[0m\u001b[0;34m\u001b[0m\u001b[0;34m\u001b[0m\u001b[0m\n\u001b[1;32m     12\u001b[0m \u001b[0max\u001b[0m\u001b[0;34m.\u001b[0m\u001b[0mset_yscale\u001b[0m\u001b[0;34m(\u001b[0m\u001b[0;34m\"log\"\u001b[0m\u001b[0;34m)\u001b[0m\u001b[0;34m\u001b[0m\u001b[0;34m\u001b[0m\u001b[0m\n",
      "\u001b[0;32m~/.local/lib/python3.6/site-packages/matplotlib/__init__.py\u001b[0m in \u001b[0;36minner\u001b[0;34m(ax, data, *args, **kwargs)\u001b[0m\n\u001b[1;32m   1597\u001b[0m     \u001b[0;32mdef\u001b[0m \u001b[0minner\u001b[0m\u001b[0;34m(\u001b[0m\u001b[0max\u001b[0m\u001b[0;34m,\u001b[0m \u001b[0;34m*\u001b[0m\u001b[0margs\u001b[0m\u001b[0;34m,\u001b[0m \u001b[0mdata\u001b[0m\u001b[0;34m=\u001b[0m\u001b[0;32mNone\u001b[0m\u001b[0;34m,\u001b[0m \u001b[0;34m**\u001b[0m\u001b[0mkwargs\u001b[0m\u001b[0;34m)\u001b[0m\u001b[0;34m:\u001b[0m\u001b[0;34m\u001b[0m\u001b[0;34m\u001b[0m\u001b[0m\n\u001b[1;32m   1598\u001b[0m         \u001b[0;32mif\u001b[0m \u001b[0mdata\u001b[0m \u001b[0;32mis\u001b[0m \u001b[0;32mNone\u001b[0m\u001b[0;34m:\u001b[0m\u001b[0;34m\u001b[0m\u001b[0;34m\u001b[0m\u001b[0m\n\u001b[0;32m-> 1599\u001b[0;31m             \u001b[0;32mreturn\u001b[0m \u001b[0mfunc\u001b[0m\u001b[0;34m(\u001b[0m\u001b[0max\u001b[0m\u001b[0;34m,\u001b[0m \u001b[0;34m*\u001b[0m\u001b[0mmap\u001b[0m\u001b[0;34m(\u001b[0m\u001b[0msanitize_sequence\u001b[0m\u001b[0;34m,\u001b[0m \u001b[0margs\u001b[0m\u001b[0;34m)\u001b[0m\u001b[0;34m,\u001b[0m \u001b[0;34m**\u001b[0m\u001b[0mkwargs\u001b[0m\u001b[0;34m)\u001b[0m\u001b[0;34m\u001b[0m\u001b[0;34m\u001b[0m\u001b[0m\n\u001b[0m\u001b[1;32m   1600\u001b[0m \u001b[0;34m\u001b[0m\u001b[0m\n\u001b[1;32m   1601\u001b[0m         \u001b[0mbound\u001b[0m \u001b[0;34m=\u001b[0m \u001b[0mnew_sig\u001b[0m\u001b[0;34m.\u001b[0m\u001b[0mbind\u001b[0m\u001b[0;34m(\u001b[0m\u001b[0max\u001b[0m\u001b[0;34m,\u001b[0m \u001b[0;34m*\u001b[0m\u001b[0margs\u001b[0m\u001b[0;34m,\u001b[0m \u001b[0;34m**\u001b[0m\u001b[0mkwargs\u001b[0m\u001b[0;34m)\u001b[0m\u001b[0;34m\u001b[0m\u001b[0;34m\u001b[0m\u001b[0m\n",
      "\u001b[0;32m~/.local/lib/python3.6/site-packages/matplotlib/axes/_axes.py\u001b[0m in \u001b[0;36mscatter\u001b[0;34m(self, x, y, s, c, marker, cmap, norm, vmin, vmax, alpha, linewidths, verts, edgecolors, plotnonfinite, **kwargs)\u001b[0m\n\u001b[1;32m   4441\u001b[0m         \u001b[0my\u001b[0m \u001b[0;34m=\u001b[0m \u001b[0mnp\u001b[0m\u001b[0;34m.\u001b[0m\u001b[0mma\u001b[0m\u001b[0;34m.\u001b[0m\u001b[0mravel\u001b[0m\u001b[0;34m(\u001b[0m\u001b[0my\u001b[0m\u001b[0;34m)\u001b[0m\u001b[0;34m\u001b[0m\u001b[0;34m\u001b[0m\u001b[0m\n\u001b[1;32m   4442\u001b[0m         \u001b[0;32mif\u001b[0m \u001b[0mx\u001b[0m\u001b[0;34m.\u001b[0m\u001b[0msize\u001b[0m \u001b[0;34m!=\u001b[0m \u001b[0my\u001b[0m\u001b[0;34m.\u001b[0m\u001b[0msize\u001b[0m\u001b[0;34m:\u001b[0m\u001b[0;34m\u001b[0m\u001b[0;34m\u001b[0m\u001b[0m\n\u001b[0;32m-> 4443\u001b[0;31m             \u001b[0;32mraise\u001b[0m \u001b[0mValueError\u001b[0m\u001b[0;34m(\u001b[0m\u001b[0;34m\"x and y must be the same size\"\u001b[0m\u001b[0;34m)\u001b[0m\u001b[0;34m\u001b[0m\u001b[0;34m\u001b[0m\u001b[0m\n\u001b[0m\u001b[1;32m   4444\u001b[0m \u001b[0;34m\u001b[0m\u001b[0m\n\u001b[1;32m   4445\u001b[0m         \u001b[0;32mif\u001b[0m \u001b[0ms\u001b[0m \u001b[0;32mis\u001b[0m \u001b[0;32mNone\u001b[0m\u001b[0;34m:\u001b[0m\u001b[0;34m\u001b[0m\u001b[0;34m\u001b[0m\u001b[0m\n",
      "\u001b[0;31mValueError\u001b[0m: x and y must be the same size"
     ]
    },
    {
     "data": {
      "image/png": "[encoded data removed]",
      "text/plain": [
       "<Figure size 1080x720 with 1 Axes>"
      ]
     },
     "metadata": {
      "needs_background": "light"
     },
     "output_type": "display_data"
    }
   ],
   "source": [
    "from matplotlib.ticker import FuncFormatter\n",
    "fig,ax=plt.subplots(1,figsize =(15,10))\n",
    "folders = os.listdir(\"/home/korolaab/Downloads/archive/\")\n",
    "ax.grid(True)\n",
    "ax.set_xlabel(\"Eccentricity\")\n",
    "ax.set_ylabel(\"%\",rotation=90)\n",
    "for i in range(len(folders)):\n",
    "    if(i == 1):\n",
    "        continue\n",
    "    ax.scatter(X_arr[i][:-1],Y_arr[i]/Y_arr[i].sum(),label=folders[i])\n",
    "    ax.plot(X_arr[i][:-1],Y_arr[i]/Y_arr[i].sum())\n",
    "ax.set_yscale(\"log\")\n",
    "#ax.set_yticks([1,2,3,4,5,10,20,30,40,50,100])\n",
    "#ax.set_yticks(np.arange(0,0.1,10))\n",
    "ax.yaxis.set_major_formatter(FuncFormatter(lambda y,_:'{:.16g}'.format(y)))\n",
    "ax.legend()\n"
   ]
  },
  {
   "cell_type": "code",
   "execution_count": 6,
   "metadata": {},
   "outputs": [],
   "source": [
    "X = np.array(X_arr[i][:-1])\n",
    "Y = np.array(Y_arr)"
   ]
  },
  {
   "cell_type": "code",
   "execution_count": 7,
   "metadata": {},
   "outputs": [],
   "source": [
    "np.savetxt('X.csv',X,delimiter=',',fmt='%.3f')\n",
    "np.savetxt('Y.csv',Y.T,delimiter=',',fmt='%.3f')"
   ]
  },
  {
   "cell_type": "code",
   "execution_count": 8,
   "metadata": {},
   "outputs": [
    {
     "name": "stdout",
     "output_type": "stream",
     "text": [
      "['m17OD2inv200-490frames', 'EHECOD2_dno_first290frames_inv', 'EHECOD2_first290frames', 'jM109OD2-4_first290frames']\n"
     ]
    }
   ],
   "source": [
    "print( folders)"
   ]
  }
 ],
 "metadata": {
  "kernelspec": {
   "display_name": "Python 3",
   "language": "python",
   "name": "python3"
  },
  "language_info": {
   "codemirror_mode": {
    "name": "ipython",
    "version": 3
   },
   "file_extension": ".py",
   "mimetype": "text/x-python",
   "name": "python",
   "nbconvert_exporter": "python",
   "pygments_lexer": "ipython3",
   "version": "3.6.9"
  }
 },
 "nbformat": 4,
 "nbformat_minor": 4
}
